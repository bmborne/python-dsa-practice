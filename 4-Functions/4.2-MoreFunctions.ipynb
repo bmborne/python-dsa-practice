{
 "cells": [
  {
   "cell_type": "markdown",
   "metadata": {},
   "source": [
    "# FUNCTIONS EXAMPLES"
   ]
  },
  {
   "cell_type": "markdown",
   "metadata": {},
   "source": [
    "### TEMPERATURE CONVERSION"
   ]
  },
  {
   "cell_type": "code",
   "execution_count": 2,
   "metadata": {},
   "outputs": [],
   "source": [
    "def convert_temperature(temp, unit):\n",
    "    '''This function converts temp btn celsius and farenheit'''\n",
    "    if unit=='C':\n",
    "        return temp*9/5  + 32 # celscius to Farenheit\n",
    "    elif unit=='F':\n",
    "        return (temp-32)*5/9  # Farenheit to Celcius\n",
    "    else:\n",
    "        return None"
   ]
  },
  {
   "cell_type": "code",
   "execution_count": 5,
   "metadata": {},
   "outputs": [
    {
     "name": "stdout",
     "output_type": "stream",
     "text": [
      "77.0\n",
      "25.0\n"
     ]
    }
   ],
   "source": [
    "print(convert_temperature(25, 'C'))\n",
    "print(convert_temperature(77, 'F'))"
   ]
  },
  {
   "cell_type": "markdown",
   "metadata": {},
   "source": [
    "### 2. PASSWORD STRENGTH CHECKER"
   ]
  },
  {
   "cell_type": "code",
   "execution_count": 6,
   "metadata": {},
   "outputs": [],
   "source": [
    "def is_strong_password(password):\n",
    "    '''This function checks if the password is strong or not'''\n",
    "    if len(password)<8:\n",
    "        return False\n",
    "    if not any(char.isdigit() for char in password):\n",
    "        return False\n",
    "    if not any(char.islower() for char in password):\n",
    "        return False\n",
    "    if not any(char.isupper() for char in password):\n",
    "        return False\n",
    "    if not any(char in '!@#$%^&*()_+' for char in password):\n",
    "        return False\n",
    "    return True"
   ]
  },
  {
   "cell_type": "code",
   "execution_count": 9,
   "metadata": {},
   "outputs": [
    {
     "name": "stdout",
     "output_type": "stream",
     "text": [
      "False\n",
      "True\n"
     ]
    }
   ],
   "source": [
    "# Calling the function\n",
    "print(is_strong_password(\"Week0Password\"))\n",
    "print(is_strong_password(\"Week0Password£$\"))"
   ]
  },
  {
   "cell_type": "markdown",
   "metadata": {},
   "source": [
    "### 3. Calculate the total cost of Items in a shopping Cart"
   ]
  },
  {
   "cell_type": "code",
   "execution_count": 12,
   "metadata": {},
   "outputs": [
    {
     "name": "stdout",
     "output_type": "stream",
     "text": [
      "13.8\n"
     ]
    }
   ],
   "source": [
    "def calculate_total_cost(cart):\n",
    "    total_cost=0\n",
    "    for item in cart:\n",
    "        total_cost+=item['price'] * item['quantity']\n",
    "    return total_cost\n",
    "\n",
    "## Example cart data\n",
    "\n",
    "cart = [\n",
    "    {'name': 'apple', 'price': 0.5, 'quantity': 4},\n",
    "    {'name': 'tomato', 'price': 1, 'quantity': 10},\n",
    "    {'name': 'banana', 'price': 0.3, 'quantity': 6},\n",
    "]\n",
    "\n",
    "## calling the function\n",
    "\n",
    "total_cost=calculate_total_cost(cart)\n",
    "print(total_cost)"
   ]
  },
  {
   "cell_type": "markdown",
   "metadata": {},
   "source": [
    "#### CHECK IF A STRING IS PALINDROME\n",
    "\n",
    "a word that can be read on both side\n",
    "i.e aba"
   ]
  },
  {
   "cell_type": "code",
   "execution_count": 14,
   "metadata": {},
   "outputs": [
    {
     "name": "stdout",
     "output_type": "stream",
     "text": [
      "True\n",
      "False\n"
     ]
    }
   ],
   "source": [
    "def is_palindrome(s):\n",
    "    s=s.lower().replace(' ', '')\n",
    "    return s[::-1]==s\n",
    "\n",
    "print(is_palindrome('A man a plan a canal Panama'))\n",
    "print(is_palindrome('Hllo World'))"
   ]
  },
  {
   "cell_type": "markdown",
   "metadata": {},
   "source": [
    "### FACTORIAL OF A NUMBER USING RECURSION\n",
    "5! = 5x4x3x2x1"
   ]
  },
  {
   "cell_type": "code",
   "execution_count": 16,
   "metadata": {},
   "outputs": [
    {
     "name": "stdout",
     "output_type": "stream",
     "text": [
      "5! = 120\n"
     ]
    }
   ],
   "source": [
    "def factorial(n):\n",
    "    if n==0:\n",
    "        return 1\n",
    "    else:\n",
    "        return n * factorial(n-1)\n",
    "    \n",
    "# calling the function\n",
    "print(f\"5! = {factorial(5)}\")"
   ]
  },
  {
   "cell_type": "markdown",
   "metadata": {},
   "source": [
    "### FUNCTION TO READ A FILE AND COUNT THE FREQUENCY OF EACH WORD\n"
   ]
  },
  {
   "cell_type": "code",
   "execution_count": 20,
   "metadata": {},
   "outputs": [
    {
     "name": "stdout",
     "output_type": "stream",
     "text": [
      "{'hello': 1, 'world': 1, 'brayden': 2, 'how': 1, 'are': 1, 'you': 1, 'my': 1, 'name': 1, 'is': 1}\n"
     ]
    }
   ],
   "source": [
    "def count_word_frequency(file_path):\n",
    "    word_count={}\n",
    "    with open(file_path,'r') as file:\n",
    "        for line in file:\n",
    "            words=line.split()\n",
    "            for word in words:\n",
    "                word=word.lower().strip('.,!?;:\"\\'')\n",
    "                word_count[word]=word_count.get(word,0)+1\n",
    "    return word_count\n",
    "\n",
    "file_path='sample.txt'\n",
    "word_frequency=count_word_frequency(file_path)\n",
    "print(word_frequency)"
   ]
  },
  {
   "cell_type": "markdown",
   "metadata": {},
   "source": [
    "### VALIDATE EMAIL ADDRESS"
   ]
  },
  {
   "cell_type": "code",
   "execution_count": 21,
   "metadata": {},
   "outputs": [
    {
     "name": "stdout",
     "output_type": "stream",
     "text": [
      "True\n",
      "False\n"
     ]
    }
   ],
   "source": [
    "import re\n",
    "\n",
    "# Email validation function\n",
    "def is_valid_email(email):\n",
    "    '''This function checks if the mail is valid'''\n",
    "    pattern = r'^[a-zA-Z0-9_.+-]+@[a-zA-Z0-9-]+\\.[a-zA-Z0-9-]+$'\n",
    "    return re.match(pattern, email) is not None\n",
    "\n",
    "# Calling function\n",
    "print(is_valid_email('boniphacemkindi@gmail.com'))\n",
    "print(is_valid_email('invalid-email'))"
   ]
  },
  {
   "cell_type": "code",
   "execution_count": null,
   "metadata": {},
   "outputs": [],
   "source": []
  }
 ],
 "metadata": {
  "kernelspec": {
   "display_name": "Python 3",
   "language": "python",
   "name": "python3"
  },
  "language_info": {
   "codemirror_mode": {
    "name": "ipython",
    "version": 3
   },
   "file_extension": ".py",
   "mimetype": "text/x-python",
   "name": "python",
   "nbconvert_exporter": "python",
   "pygments_lexer": "ipython3",
   "version": "3.12.1"
  }
 },
 "nbformat": 4,
 "nbformat_minor": 2
}
