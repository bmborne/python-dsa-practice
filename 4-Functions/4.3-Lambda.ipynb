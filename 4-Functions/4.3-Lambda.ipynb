{
 "cells": [
  {
   "cell_type": "markdown",
   "metadata": {},
   "source": [
    "# LAMBDA FUNCTIONS\n",
    "\n",
    "are small anonymous functions defined using lambda keywords, they can have any number of arguments but only one expression. They are commonly used for short operations or as arguments to higher-order functions"
   ]
  }
 ],
 "metadata": {
  "language_info": {
   "name": "python"
  }
 },
 "nbformat": 4,
 "nbformat_minor": 2
}
