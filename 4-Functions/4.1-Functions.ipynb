{
 "cells": [
  {
   "cell_type": "markdown",
   "metadata": {},
   "source": [
    "A function is a block of code that performs a specific Task. It helps in organising code, reusing code and improving readability."
   ]
  },
  {
   "cell_type": "code",
   "execution_count": 1,
   "metadata": {},
   "outputs": [],
   "source": [
    "## Syntax\n",
    "def function_name(paramaters):\n",
    "    \"\"\"DOcString\"\"\"\n",
    "    #Function Body\n",
    "    return expression\n"
   ]
  },
  {
   "cell_type": "code",
   "execution_count": 2,
   "metadata": {},
   "outputs": [
    {
     "name": "stdout",
     "output_type": "stream",
     "text": [
      "The number is Even\n"
     ]
    }
   ],
   "source": [
    "## why functions?\n",
    "num=24\n",
    "if num%2==0:\n",
    "    print(\"The number is Even\")\n",
    "else:\n",
    "    print(\"The number is odd\")"
   ]
  },
  {
   "cell_type": "code",
   "execution_count": 3,
   "metadata": {},
   "outputs": [],
   "source": [
    "# with function:\n",
    "def even_or_odd(num):\n",
    "    '''This function finds even or odd'''\n",
    "    if num%2==0:\n",
    "        print(\"The number is Even\")\n",
    "    else:\n",
    "        print(\"The number is odd\")"
   ]
  },
  {
   "cell_type": "code",
   "execution_count": 4,
   "metadata": {},
   "outputs": [
    {
     "name": "stdout",
     "output_type": "stream",
     "text": [
      "The number is Even\n"
     ]
    }
   ],
   "source": [
    "even_or_odd(num)"
   ]
  },
  {
   "cell_type": "code",
   "execution_count": 8,
   "metadata": {},
   "outputs": [
    {
     "name": "stdout",
     "output_type": "stream",
     "text": [
      "6\n"
     ]
    }
   ],
   "source": [
    "# function with multiple parameters\n",
    "def add(a,b):\n",
    "    '''Add 2 numbers'''\n",
    "    c = a + b\n",
    "    return c\n",
    "\n",
    "result=add(2,4)\n",
    "print(result)"
   ]
  },
  {
   "cell_type": "code",
   "execution_count": 13,
   "metadata": {},
   "outputs": [
    {
     "name": "stdout",
     "output_type": "stream",
     "text": [
      "Hello Krish, welcome to paradise.\n",
      "Hello Guest, welcome to paradise.\n"
     ]
    }
   ],
   "source": [
    "# Default Parameters\n",
    "def greet(name=\"Guest\"):\n",
    "    print(f\"Hello {name}, welcome to paradise.\")\n",
    "\n",
    "greet(\"Krish\")\n",
    "greet()"
   ]
  },
  {
   "cell_type": "code",
   "execution_count": 19,
   "metadata": {},
   "outputs": [],
   "source": [
    "# variable length arguments\n",
    "## Positional and Keywords Arguments\n",
    "\n",
    "def print_numbers(*krish):\n",
    "    for numbers in krish:\n",
    "        print(numbers)\n",
    "\n",
    "# Industrial starndard to use *arg for parameters intput value to a function\n",
    "\n",
    "#Positional Argument\n",
    "def print_numbers(*arg):\n",
    "    for numbers in args:\n",
    "        print(numbers)"
   ]
  },
  {
   "cell_type": "code",
   "execution_count": 20,
   "metadata": {},
   "outputs": [
    {
     "name": "stdout",
     "output_type": "stream",
     "text": [
      "1\n",
      "2\n",
      "3\n",
      "4\n",
      "5\n",
      "Krish\n"
     ]
    }
   ],
   "source": [
    "# Positional Argument\n",
    "print_numbers(1,2,3,4,5,\"Krish\")"
   ]
  },
  {
   "cell_type": "code",
   "execution_count": 21,
   "metadata": {},
   "outputs": [],
   "source": [
    "#Key word argument\n",
    "## we use **kwargs to define key words arguments\n",
    "\n",
    "def prin_details(**kwargs):\n",
    "    for key,value in kwargs.items():\n",
    "        print(f\"{key}:{value}\")"
   ]
  },
  {
   "cell_type": "code",
   "execution_count": 22,
   "metadata": {},
   "outputs": [
    {
     "name": "stdout",
     "output_type": "stream",
     "text": [
      "name:Bony\n",
      "age:32\n",
      "country:UK\n"
     ]
    }
   ],
   "source": [
    "prin_details(name=\"Bony\", age=32, country=\"UK\")"
   ]
  },
  {
   "cell_type": "code",
   "execution_count": 23,
   "metadata": {},
   "outputs": [],
   "source": [
    "def prin_details(*args, **kwargs):\n",
    "    for val in args:\n",
    "        print(f\"Positional  argument : {val}\")\n",
    "\n",
    "    for key,value in kwargs.items():\n",
    "        print(f\"{key}:{value}\")"
   ]
  },
  {
   "cell_type": "code",
   "execution_count": 24,
   "metadata": {},
   "outputs": [
    {
     "name": "stdout",
     "output_type": "stream",
     "text": [
      "Positional  argument : 1\n",
      "Positional  argument : 2\n",
      "Positional  argument : 3\n",
      "Positional  argument : 4\n",
      "Positional  argument : 5\n",
      "Positional  argument : Krish\n",
      "name:Bony\n",
      "age:32\n",
      "country:UK\n"
     ]
    }
   ],
   "source": [
    "prin_details(1,2,3,4,5,\"Krish\", name=\"Bony\", age=32, country=\"UK\")"
   ]
  },
  {
   "cell_type": "code",
   "execution_count": 25,
   "metadata": {},
   "outputs": [
    {
     "data": {
      "text/plain": [
       "6"
      ]
     },
     "execution_count": 25,
     "metadata": {},
     "output_type": "execute_result"
    }
   ],
   "source": [
    "## Return Statements\n",
    "def multiply(a,b):\n",
    "    return a*b\n",
    "\n",
    "multiply(2,3)"
   ]
  },
  {
   "cell_type": "code",
   "execution_count": 27,
   "metadata": {},
   "outputs": [
    {
     "data": {
      "text/plain": [
       "(6, 2)"
      ]
     },
     "execution_count": 27,
     "metadata": {},
     "output_type": "execute_result"
    }
   ],
   "source": [
    "## Return multiple parameters Statements\n",
    "def multiply(a,b):\n",
    "    return a*b, a\n",
    "\n",
    "multiply(2,3)"
   ]
  },
  {
   "cell_type": "code",
   "execution_count": null,
   "metadata": {},
   "outputs": [],
   "source": []
  }
 ],
 "metadata": {
  "kernelspec": {
   "display_name": "Python 3",
   "language": "python",
   "name": "python3"
  },
  "language_info": {
   "codemirror_mode": {
    "name": "ipython",
    "version": 3
   },
   "file_extension": ".py",
   "mimetype": "text/x-python",
   "name": "python",
   "nbconvert_exporter": "python",
   "pygments_lexer": "ipython3",
   "version": "3.12.1"
  }
 },
 "nbformat": 4,
 "nbformat_minor": 2
}
