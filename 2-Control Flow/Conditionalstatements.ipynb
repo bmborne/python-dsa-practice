{
 "cells": [
  {
   "cell_type": "code",
   "execution_count": 1,
   "metadata": {},
   "outputs": [
    {
     "name": "stdout",
     "output_type": "stream",
     "text": [
      "You are allowed to vote in the elections\n"
     ]
    }
   ],
   "source": [
    "## if statement\n",
    "# Evaluates the condition if true then exercute the block of code\n",
    "\n",
    "age = 20\n",
    "\n",
    "if age >= 20:\n",
    "    print(\"You are allowed to vote in the elections\")"
   ]
  },
  {
   "cell_type": "code",
   "execution_count": 3,
   "metadata": {},
   "outputs": [
    {
     "name": "stdout",
     "output_type": "stream",
     "text": [
      "You are not allowed to vote\n"
     ]
    }
   ],
   "source": [
    "# else\n",
    "# the else statement exercute only when the condition is false\n",
    "\n",
    "age = 16\n",
    "\n",
    "if age >= 18:\n",
    "    print(\"You are allowed to vote in the elections\")\n",
    "else:\n",
    "    print(\"You are not allowed to vote\")"
   ]
  },
  {
   "cell_type": "code",
   "execution_count": 7,
   "metadata": {},
   "outputs": [
    {
     "name": "stdout",
     "output_type": "stream",
     "text": [
      "You are a teenager\n"
     ]
    }
   ],
   "source": [
    "##elif \n",
    "## allows you to check maultiple condition\n",
    "\n",
    "age = 15\n",
    "\n",
    "if age < 13:\n",
    "    print(\"You are a child\")\n",
    "elif age < 18:\n",
    "    print(\"You are a teenager\")\n",
    "else:\n",
    "    print(\"You are an adult\")"
   ]
  },
  {
   "cell_type": "code",
   "execution_count": 10,
   "metadata": {},
   "outputs": [
    {
     "name": "stdout",
     "output_type": "stream",
     "text": [
      "The number is 0 or negative\n"
     ]
    }
   ],
   "source": [
    "## Nested Confitional statements\n",
    "# You can place one or more if statement inside each other \n",
    "\n",
    "## yearber even. odd, negative\n",
    "\n",
    "num = int(input(\"Enter a number: \"))\n",
    "\n",
    "if num>=0:\n",
    "    print(\"The yearber is positive\")\n",
    "    if num%2==0:\n",
    "        print(\"The number is even\")\n",
    "    else:\n",
    "        print(\"The numbe is odd\")\n",
    "else:\n",
    "    print(\"The number is 0 or negative\")"
   ]
  },
  {
   "cell_type": "code",
   "execution_count": 15,
   "metadata": {},
   "outputs": [
    {
     "name": "stdout",
     "output_type": "stream",
     "text": [
      "It is a valid number of years\n",
      "2000 The year is a leap year\n"
     ]
    }
   ],
   "source": [
    "## use cases \n",
    "\n",
    "## determin a year is a leap year using nested conditional statement\n",
    "\n",
    "year = int(input(\"Enter a year: \"))\n",
    "\n",
    "if year>=0:\n",
    "    print(\"It is a valid number of years\")\n",
    "    if (year%4==0 and year%100==0 and year%400==0):\n",
    "        print(year, \"The year is a leap year\")\n",
    "    else:\n",
    "        print(year, \"The year is a normal year\")\n",
    "else:\n",
    "    print(year, \"It is not a valid value\")"
   ]
  },
  {
   "cell_type": "code",
   "execution_count": 18,
   "metadata": {},
   "outputs": [
    {
     "name": "stdout",
     "output_type": "stream",
     "text": [
      "Error! Division by Zero.\n"
     ]
    }
   ],
   "source": [
    "## simple calculator\n",
    "\n",
    "num1 = int(input(\"Input the first Number:\"))\n",
    "num2 = int(input(\"Input the second Number:\"))\n",
    "ops = str(input(\"Input the operation (+,/,*,//,%,**):\"))\n",
    "\n",
    "if (ops == '+'):\n",
    "    print(f\"{num1} + {num2} = {num1 + num2}\")\n",
    "elif (ops == '/'):\n",
    "    if num2 !=0 :\n",
    "        print(f\"{num1} / {num2} = {num1 / num2}\")\n",
    "    else:\n",
    "        print(\"Error! Division by Zero.\")\n",
    "elif (ops == '*'):\n",
    "    print(f\"{num1} * {num2} = {num1 * num2}\")\n",
    "elif (ops == '//'):\n",
    "    print(f\"{num1} // {num2} = {num1 // num2}\")\n",
    "elif (ops == '%'):\n",
    "    print(f\"{num1} % {num2} = {num1 % num2}\")\n",
    "elif (ops == '**'):\n",
    "    print(f\"{num1} ** {num2} = {num1 ** num2}\")\n",
    "else:\n",
    "    print(f\"{ops} is not a valid operation in this scope\")"
   ]
  },
  {
   "cell_type": "code",
   "execution_count": 19,
   "metadata": {},
   "outputs": [
    {
     "name": "stdout",
     "output_type": "stream",
     "text": [
      "Ticket Price: $18\n"
     ]
    }
   ],
   "source": [
    "## determin the ticket price based on age and werther the person is a student\n",
    "\n",
    "age = int(input(\"Give an Age value :\"))\n",
    "is_student = input(\"Are you a student (yes/no)\").lower()\n",
    "\n",
    "# determine ticket price\n",
    "if age < 5 :\n",
    "    price = \"Free\"\n",
    "elif age <= 12:\n",
    "    price = '$10'\n",
    "elif age <= 17:\n",
    "    if is_student == 'yes':\n",
    "        price = '$12'\n",
    "    else:\n",
    "        price = '$15'\n",
    "elif age <= 64:\n",
    "    if is_student == 'yes':\n",
    "        price = '$18'\n",
    "    else:\n",
    "        price = '$25'\n",
    "else:\n",
    "    price = \"$20\"\n",
    "\n",
    "\n",
    "print (\"Ticket Price:\", price)\n"
   ]
  },
  {
   "cell_type": "code",
   "execution_count": null,
   "metadata": {},
   "outputs": [],
   "source": []
  }
 ],
 "metadata": {
  "kernelspec": {
   "display_name": "Python 3",
   "language": "python",
   "name": "python3"
  },
  "language_info": {
   "codemirror_mode": {
    "name": "ipython",
    "version": 3
   },
   "file_extension": ".py",
   "mimetype": "text/x-python",
   "name": "python",
   "nbconvert_exporter": "python",
   "pygments_lexer": "ipython3",
   "version": "3.12.1"
  }
 },
 "nbformat": 4,
 "nbformat_minor": 2
}
