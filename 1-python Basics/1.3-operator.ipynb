{
 "cells": [
  {
   "cell_type": "code",
   "execution_count": 6,
   "metadata": {},
   "outputs": [
    {
     "name": "stdout",
     "output_type": "stream",
     "text": [
      "15\n",
      "5\n",
      "50\n",
      "2.0\n",
      "2\n",
      "0\n",
      "100000\n"
     ]
    }
   ],
   "source": [
    "### Arithmatic operations\n",
    "\n",
    "a=10\n",
    "b=5\n",
    "\n",
    "add_result = a+b # additional ops\n",
    "sub_result = a-b # subtraction ops\n",
    "mul_result = a*b # mul ops\n",
    "div_result = a/b # dvision ops\n",
    "floor_result = a//b # floor ops\n",
    "modulus_result = a % b # modulus operation\n",
    "expornet_result = a**b # expornetiation\n",
    "\n",
    "print(add_result)\n",
    "print(sub_result)\n",
    "print(mul_result)\n",
    "print(div_result)\n",
    "print(floor_result)\n",
    "print(modulus_result)\n",
    "print(expornet_result)\n",
    "\n"
   ]
  },
  {
   "cell_type": "code",
   "execution_count": 12,
   "metadata": {},
   "outputs": [
    {
     "data": {
      "text/plain": [
       "True"
      ]
     },
     "execution_count": 12,
     "metadata": {},
     "output_type": "execute_result"
    }
   ],
   "source": [
    "## comparison Operators\n",
    "## == Equal to\n",
    "## != Not Equal to\n",
    "## > greater than\n",
    "## < less than\n",
    "## >= greater than or equal\n",
    "## <= greater than or equal\n",
    "\n",
    "\n",
    "a=10\n",
    "b=10\n",
    "\n",
    "a == b\n",
    "a != b\n",
    "a > b\n",
    "a < b\n",
    "a >= b\n",
    "a <= b"
   ]
  },
  {
   "cell_type": "code",
   "execution_count": 17,
   "metadata": {},
   "outputs": [
    {
     "data": {
      "text/plain": [
       "False"
      ]
     },
     "execution_count": 17,
     "metadata": {},
     "output_type": "execute_result"
    }
   ],
   "source": [
    "## Logical Operator\n",
    "## And\n",
    "## Not\n",
    "## OR onty when both of them are flase\n",
    "\n",
    "\n",
    "X = True\n",
    "Y = False\n",
    "\n",
    "X and Y\n",
    "X or Y\n",
    "not X"
   ]
  },
  {
   "cell_type": "code",
   "execution_count": null,
   "metadata": {},
   "outputs": [],
   "source": []
  }
 ],
 "metadata": {
  "kernelspec": {
   "display_name": "Python 3",
   "language": "python",
   "name": "python3"
  },
  "language_info": {
   "codemirror_mode": {
    "name": "ipython",
    "version": 3
   },
   "file_extension": ".py",
   "mimetype": "text/x-python",
   "name": "python",
   "nbconvert_exporter": "python",
   "pygments_lexer": "ipython3",
   "version": "3.12.1"
  }
 },
 "nbformat": 4,
 "nbformat_minor": 2
}
