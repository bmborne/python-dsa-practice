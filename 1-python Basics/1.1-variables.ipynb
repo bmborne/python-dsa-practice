{
 "cells": [
  {
   "cell_type": "code",
   "execution_count": 1,
   "metadata": {},
   "outputs": [
    {
     "name": "stdout",
     "output_type": "stream",
     "text": [
      "Age :  31\n",
      "Height :  6.5\n",
      "student : True\n"
     ]
    }
   ],
   "source": [
    "age = 31\n",
    "height=6.5\n",
    "name=\"Bony\"\n",
    "is_student=True\n",
    "\n",
    "#Print variables:\n",
    "print(\"Age : \", age)\n",
    "print(\"Height : \", height)\n",
    "print(\"student :\", is_student)"
   ]
  },
  {
   "cell_type": "code",
   "execution_count": null,
   "metadata": {},
   "outputs": [],
   "source": [
    "# Naming convention\n",
    "# Variable names should be descriptive\n",
    "# start with a letters or _\n",
    "# can contain letters, numbers and _\n",
    "# var are case-sensistive\n",
    "\n",
    "# Valid  variable names\n",
    "first_name = \"Bony\"\n",
    "last_name = \"_Mkindi\"\n",
    "\n",
    "\n",
    "#imvalid variable name\n",
    "#2age = 10\n",
    "#first-name = \"krish\"\n",
    "\n",
    "# case-sensistivity"
   ]
  },
  {
   "cell_type": "code",
   "execution_count": 2,
   "metadata": {},
   "outputs": [
    {
     "name": "stdout",
     "output_type": "stream",
     "text": [
      "<class 'int'>\n"
     ]
    }
   ],
   "source": [
    "# understand variable types\n",
    "## python is dynamucally type, type of var is identified at exercution\n",
    "afe = 25 #int\n",
    "height = 6.1 #float\n",
    "name=\"Krish\" #string\n",
    "is_student = True # boolean\n",
    "\n",
    "print(type(afe))"
   ]
  },
  {
   "cell_type": "code",
   "execution_count": 3,
   "metadata": {},
   "outputs": [
    {
     "name": "stdout",
     "output_type": "stream",
     "text": [
      "25\n"
     ]
    },
    {
     "data": {
      "text/plain": [
       "str"
      ]
     },
     "execution_count": 3,
     "metadata": {},
     "output_type": "execute_result"
    }
   ],
   "source": [
    "# type conversion\n",
    "age = 25\n",
    "type(age)\n",
    "\n",
    "age_str=str(age)\n",
    "print(age_str)\n",
    "type(age_str)"
   ]
  },
  {
   "cell_type": "code",
   "execution_count": 5,
   "metadata": {},
   "outputs": [
    {
     "data": {
      "text/plain": [
       "int"
      ]
     },
     "execution_count": 5,
     "metadata": {},
     "output_type": "execute_result"
    }
   ],
   "source": [
    "age= '25'\n",
    "type(age)\n",
    "\n",
    "\n",
    "age_num = int(age)\n",
    "type(age_num)"
   ]
  },
  {
   "cell_type": "code",
   "execution_count": 7,
   "metadata": {},
   "outputs": [
    {
     "name": "stdout",
     "output_type": "stream",
     "text": [
      "10 <class 'int'>\n",
      "Hello <class 'str'>\n"
     ]
    }
   ],
   "source": [
    "## dynamic typing\n",
    "\n",
    "var=10\n",
    "print(var, type(var))\n",
    "\n",
    "# Python allows the type of the variable to change while the code is exercuting\n",
    "\n",
    "var = \"Hello\"\n",
    "print(var, type(var))"
   ]
  },
  {
   "cell_type": "code",
   "execution_count": 10,
   "metadata": {},
   "outputs": [
    {
     "name": "stdout",
     "output_type": "stream",
     "text": [
      "10 <class 'int'>\n"
     ]
    }
   ],
   "source": [
    "## input\n",
    "age = int(input(\"what is the age :\"))\n",
    "print(age, type(age))"
   ]
  },
  {
   "cell_type": "code",
   "execution_count": 11,
   "metadata": {},
   "outputs": [
    {
     "name": "stdout",
     "output_type": "stream",
     "text": [
      "Sum:  30.0\n",
      "Difference:  -10.0\n",
      "Product:  200.0\n",
      "Quotient:  0.5\n"
     ]
    }
   ],
   "source": [
    "num1 = float(input(\"Enter the first number: \"))\n",
    "num2 = float(input(\"Enter the second number: \"))\n",
    "\n",
    "sum = num1 + num2\n",
    "diff = num1 - num2\n",
    "product = num1 * num2\n",
    "quotient = num1 / num2\n",
    "\n",
    "print(\"Sum: \", sum)\n",
    "print(\"Difference: \", diff)\n",
    "print(\"Product: \", product)\n",
    "print(\"Quotient: \", quotient)"
   ]
  }
 ],
 "metadata": {
  "kernelspec": {
   "display_name": "Python 3",
   "language": "python",
   "name": "python3"
  },
  "language_info": {
   "codemirror_mode": {
    "name": "ipython",
    "version": 3
   },
   "file_extension": ".py",
   "mimetype": "text/x-python",
   "name": "python",
   "nbconvert_exporter": "python",
   "pygments_lexer": "ipython3",
   "version": "3.12.1"
  }
 },
 "nbformat": 4,
 "nbformat_minor": 2
}
