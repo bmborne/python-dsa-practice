{
 "cells": [
  {
   "cell_type": "code",
   "execution_count": 3,
   "metadata": {},
   "outputs": [
    {
     "name": "stdout",
     "output_type": "stream",
     "text": [
      "<class 'list'>\n"
     ]
    }
   ],
   "source": [
    "#ordered mutables collection of items\n",
    "# they contain items of different data types\n",
    "\n",
    "lst=[]\n",
    "\n",
    "type(lst)\n",
    "print(type(lst))"
   ]
  },
  {
   "cell_type": "code",
   "execution_count": 4,
   "metadata": {},
   "outputs": [
    {
     "name": "stdout",
     "output_type": "stream",
     "text": [
      "['Bony', 'Chris', 'greg', 'brayden', 1, 2, 3, 4, 5]\n"
     ]
    }
   ],
   "source": [
    "names = [\"Bony\", \"Chris\", \"greg\", \"brayden\", 1,2,3,4,5]\n",
    "print(names)"
   ]
  },
  {
   "cell_type": "code",
   "execution_count": 8,
   "metadata": {},
   "outputs": [
    {
     "name": "stdout",
     "output_type": "stream",
     "text": [
      "apple\n",
      "kiwi\n",
      "guava\n"
     ]
    }
   ],
   "source": [
    "## accessing list items\n",
    "\n",
    "fruits=[\"apple\", \"banana\", \"kiwi\", \"cherry\", \"guava\"]\n",
    "\n",
    "print(fruits[0])\n",
    "print(fruits[2])\n",
    "print(fruits[-1])"
   ]
  },
  {
   "cell_type": "code",
   "execution_count": 13,
   "metadata": {},
   "outputs": [
    {
     "name": "stdout",
     "output_type": "stream",
     "text": [
      "['apple', 'banana', 'kiwi', 'cherry', 'guava']\n",
      "['banana', 'kiwi']\n",
      "guava\n",
      "[]\n"
     ]
    }
   ],
   "source": [
    "print(fruits[0:])\n",
    "print(fruits[1:3])\n",
    "print(fruits[-1])\n",
    "print(fruits[-1:-3])"
   ]
  },
  {
   "cell_type": "code",
   "execution_count": 15,
   "metadata": {},
   "outputs": [
    {
     "name": "stdout",
     "output_type": "stream",
     "text": [
      "['apple', 'water melon', 'kiwi', 'cherry', 'guava']\n"
     ]
    }
   ],
   "source": [
    "# modifiying list\n",
    "fruits[1]=\"water melon\"\n",
    "print(fruits)"
   ]
  },
  {
   "cell_type": "code",
   "execution_count": 16,
   "metadata": {},
   "outputs": [],
   "source": [
    "## list method\n",
    "fruits.append(\"orange\")"
   ]
  },
  {
   "cell_type": "code",
   "execution_count": 17,
   "metadata": {},
   "outputs": [
    {
     "name": "stdout",
     "output_type": "stream",
     "text": [
      "['apple', 'water melon', 'kiwi', 'cherry', 'guava', 'orange']\n"
     ]
    }
   ],
   "source": [
    "print(fruits)"
   ]
  },
  {
   "cell_type": "code",
   "execution_count": 20,
   "metadata": {},
   "outputs": [
    {
     "name": "stdout",
     "output_type": "stream",
     "text": [
      "['apple', 'banana', 'banana', 'water melon', 'kiwi', 'cherry', 'guava', 'orange']\n"
     ]
    }
   ],
   "source": [
    "fruits.insert(1,\"banana\")\n",
    "print(fruits)"
   ]
  },
  {
   "cell_type": "code",
   "execution_count": 22,
   "metadata": {},
   "outputs": [
    {
     "name": "stdout",
     "output_type": "stream",
     "text": [
      "['apple', 'water melon', 'kiwi', 'cherry', 'guava', 'orange']\n"
     ]
    }
   ],
   "source": [
    "fruits.remove(\"banana\") # remove the first occurance of an item\n",
    "print(fruits)"
   ]
  },
  {
   "cell_type": "code",
   "execution_count": 23,
   "metadata": {},
   "outputs": [
    {
     "name": "stdout",
     "output_type": "stream",
     "text": [
      "orange\n",
      "['apple', 'water melon', 'kiwi', 'cherry', 'guava']\n"
     ]
    }
   ],
   "source": [
    "# Remove and return the last element\n",
    "popped_fruits=fruits.pop()\n",
    "print(popped_fruits)\n",
    "print(fruits)"
   ]
  },
  {
   "cell_type": "code",
   "execution_count": 24,
   "metadata": {},
   "outputs": [
    {
     "name": "stdout",
     "output_type": "stream",
     "text": [
      "3\n"
     ]
    }
   ],
   "source": [
    "index=fruits.index(\"cherry\")\n",
    "print(index)"
   ]
  },
  {
   "cell_type": "code",
   "execution_count": 29,
   "metadata": {},
   "outputs": [
    {
     "data": {
      "text/plain": [
       "4"
      ]
     },
     "execution_count": 29,
     "metadata": {},
     "output_type": "execute_result"
    }
   ],
   "source": [
    "fruits.insert(2,\"banana\")\n",
    "fruits.count(\"banana\")"
   ]
  },
  {
   "cell_type": "code",
   "execution_count": 32,
   "metadata": {},
   "outputs": [
    {
     "name": "stdout",
     "output_type": "stream",
     "text": [
      "['apple', 'water melon', 'banana', 'banana', 'kiwi', 'cherry', 'guava']\n"
     ]
    }
   ],
   "source": [
    "fruits.remove(\"banana\")\n",
    "print(fruits)"
   ]
  },
  {
   "cell_type": "code",
   "execution_count": 33,
   "metadata": {},
   "outputs": [
    {
     "name": "stdout",
     "output_type": "stream",
     "text": [
      "['apple', 'water melon', 'banana', 'banana', 'kiwi', 'cherry', 'guava']\n"
     ]
    }
   ],
   "source": [
    "fruits.sort\n",
    "print(fruits) # sort the list in acsending order"
   ]
  },
  {
   "cell_type": "code",
   "execution_count": 42,
   "metadata": {},
   "outputs": [
    {
     "data": {
      "text/plain": [
       "['guava', 'cherry', 'kiwi', 'banana', 'banana', 'water melon', 'apple']"
      ]
     },
     "execution_count": 42,
     "metadata": {},
     "output_type": "execute_result"
    }
   ],
   "source": [
    "fruits.reverse()\n",
    "fruits"
   ]
  },
  {
   "cell_type": "code",
   "execution_count": 43,
   "metadata": {},
   "outputs": [],
   "source": [
    "fruits.clear()"
   ]
  },
  {
   "cell_type": "code",
   "execution_count": 44,
   "metadata": {},
   "outputs": [
    {
     "data": {
      "text/plain": [
       "[]"
      ]
     },
     "execution_count": 44,
     "metadata": {},
     "output_type": "execute_result"
    }
   ],
   "source": [
    "fruits"
   ]
  },
  {
   "cell_type": "code",
   "execution_count": 47,
   "metadata": {},
   "outputs": [
    {
     "name": "stdout",
     "output_type": "stream",
     "text": [
      "[3, 4, 5]\n",
      "[1, 2, 3, 4, 5]\n",
      "[6, 7, 8, 9, 10]\n",
      "[1, 3, 5, 7, 9]\n",
      "[10, 9, 8, 7, 6, 5, 4, 3, 2, 1]\n"
     ]
    }
   ],
   "source": [
    "## slicing lists\n",
    "numbers=[1,2,3,4,5,6,7,8,9,10]\n",
    "print(numbers[2:5])\n",
    "print(numbers[:5])\n",
    "print(numbers[5:])\n",
    "print(numbers[::2])\n",
    "print(numbers[::-1])"
   ]
  },
  {
   "cell_type": "code",
   "execution_count": 48,
   "metadata": {},
   "outputs": [
    {
     "name": "stdout",
     "output_type": "stream",
     "text": [
      "1\n",
      "2\n",
      "3\n",
      "4\n",
      "5\n",
      "6\n",
      "7\n",
      "8\n",
      "9\n",
      "10\n"
     ]
    }
   ],
   "source": [
    "### iterating over list\n",
    "for number in numbers:\n",
    "    print(number)"
   ]
  },
  {
   "cell_type": "code",
   "execution_count": 49,
   "metadata": {},
   "outputs": [
    {
     "name": "stdout",
     "output_type": "stream",
     "text": [
      "0 1\n",
      "1 2\n",
      "2 3\n",
      "3 4\n",
      "4 5\n",
      "5 6\n",
      "6 7\n",
      "7 8\n",
      "8 9\n",
      "9 10\n"
     ]
    }
   ],
   "source": [
    "## iterate with index\n",
    "for index,numbers in enumerate(numbers):\n",
    "    print(index, numbers)"
   ]
  },
  {
   "cell_type": "code",
   "execution_count": 53,
   "metadata": {},
   "outputs": [
    {
     "name": "stdout",
     "output_type": "stream",
     "text": [
      "[0, 1, 4, 9, 16, 25, 36, 49, 64, 81]\n"
     ]
    },
    {
     "data": {
      "text/plain": [
       "[0, 1, 4, 9, 16, 25, 36, 49, 64, 81]"
      ]
     },
     "execution_count": 53,
     "metadata": {},
     "output_type": "execute_result"
    }
   ],
   "source": [
    "## list comprehesion\n",
    "lisr=[]\n",
    "for x in range(10):\n",
    "    lisr.append(x**2)\n",
    "\n",
    "print(lisr)\n",
    "\n",
    "\n",
    "# now instead of performing different values you can do in one line that is list comprehension\n",
    "[x**2 for x in range(10)]"
   ]
  },
  {
   "cell_type": "code",
   "execution_count": 55,
   "metadata": {},
   "outputs": [
    {
     "data": {
      "text/plain": [
       "[0, 1, 4, 9, 16, 25, 36, 49, 64, 81]"
      ]
     },
     "execution_count": 55,
     "metadata": {},
     "output_type": "execute_result"
    }
   ],
   "source": [
    "#other examples on list comprehension\n",
    "# syntax of list comprehension\n",
    "\n",
    "# Basic syntax: [expression for item in iterables]\n",
    "[x**2 for x in range(10)]\n",
    "\n",
    "\n",
    "# with conditional logix [expression for item in iterables if condition]\n",
    "\n",
    "# Nested List comprehension [expression for item1 in iterable1 for item2 in iterable2]\n"
   ]
  },
  {
   "cell_type": "code",
   "execution_count": 57,
   "metadata": {},
   "outputs": [
    {
     "name": "stdout",
     "output_type": "stream",
     "text": [
      "[0, 1, 4, 9, 16, 25, 36, 49, 64, 81]\n"
     ]
    }
   ],
   "source": [
    "### Basic List Comprehension\n",
    "\n",
    "# Basic syntax\n",
    "square=[num**2 for num in range(10)]\n",
    "print(square)"
   ]
  },
  {
   "cell_type": "code",
   "execution_count": 62,
   "metadata": {},
   "outputs": [
    {
     "name": "stdout",
     "output_type": "stream",
     "text": [
      "[0, 2, 4, 6, 8]\n",
      "[0, 2, 4, 6, 8]\n"
     ]
    }
   ],
   "source": [
    "# conditional logic\n",
    "# first a normal lf condition\n",
    "lst=[]\n",
    "for i in range(10):\n",
    "    if i%2==0:\n",
    "        lst.append(i)\n",
    "print(lst)\n",
    "\n",
    "\n",
    "even_list=[num for num in range(10) if num%2==0]\n",
    "print(even_list)"
   ]
  },
  {
   "cell_type": "code",
   "execution_count": 64,
   "metadata": {},
   "outputs": [
    {
     "name": "stdout",
     "output_type": "stream",
     "text": [
      "[(1, 'a'), (1, 'b'), (1, 'c'), (1, 'd'), (2, 'a'), (2, 'b'), (2, 'c'), (2, 'd'), (3, 'a'), (3, 'b'), (3, 'c'), (3, 'd'), (4, 'a'), (4, 'b'), (4, 'c'), (4, 'd')]\n"
     ]
    }
   ],
   "source": [
    "# Nested List comprehension [expression for item1 in iterable1 for item2 in iterable2]\n",
    "\n",
    "list1=[1,2,3,4]\n",
    "list2=['a', 'b', 'c', 'd']\n",
    "\n",
    "pair=[(i,j) for i in list1 for j in list2]\n",
    "print(pair)"
   ]
  },
  {
   "cell_type": "code",
   "execution_count": 65,
   "metadata": {},
   "outputs": [
    {
     "name": "stdout",
     "output_type": "stream",
     "text": [
      "[5, 5, 4, 13]\n"
     ]
    }
   ],
   "source": [
    "words=[\"hello\",\"world\",\"list\",\"comprehension\"]\n",
    "lengths=[len(word) for word in words]\n",
    "print(lengths)"
   ]
  },
  {
   "cell_type": "code",
   "execution_count": 67,
   "metadata": {},
   "outputs": [
    {
     "name": "stdout",
     "output_type": "stream",
     "text": [
      "['0: Even', '1: Odd', '2: Even', '3: Odd', '4: Even', '5: Odd', '6: Even', '7: Odd', '8: Even', '9: Odd']\n"
     ]
    }
   ],
   "source": [
    "## conditional expression list\n",
    "# [expression if condition else expression2 for item in iterable]\n",
    "\n",
    "results = [f\"{number}: Even\" if number%2==0 else f\"{number}: Odd\" for number in range(10)]\n",
    "print(results)"
   ]
  },
  {
   "cell_type": "markdown",
   "metadata": {},
   "source": [
    "List comprehension in Python is a concise way to create lists by iterating over an iterable and optionally filtering elements. There are three main types of list comprehensions:\n",
    "\n",
    "### 1. **Basic List Comprehension**\n",
    "   This is the simplest form, used to generate a new list by applying an expression to each element of an existing iterable.\n",
    "\n",
    "   **Syntax:**\n",
    "   ```python\n",
    "   [expression for item in iterable]\n",
    "   ```\n",
    "\n",
    "   **Example:**\n",
    "   ```python\n",
    "   squares = [x**2 for x in range(5)]\n",
    "   print(squares)  # Output: [0, 1, 4, 9, 16]\n",
    "   ```\n",
    "\n",
    "   **Explanation:**\n",
    "   - `x**2` is the expression applied to each item.\n",
    "   - `x` takes on each value in `range(5)` (0, 1, 2, 3, 4).\n",
    "   - The result is a list of squares of these numbers.\n",
    "\n",
    "---\n",
    "\n",
    "### 2. **Conditional List Comprehension**\n",
    "   This type includes a condition to filter elements from the iterable.\n",
    "\n",
    "   **Syntax:**\n",
    "   ```python\n",
    "   [expression for item in iterable if condition]\n",
    "   ```\n",
    "\n",
    "   **Example:**\n",
    "   ```python\n",
    "   even_numbers = [x for x in range(10) if x % 2 == 0]\n",
    "   print(even_numbers)  # Output: [0, 2, 4, 6, 8]\n",
    "   ```\n",
    "\n",
    "   **Explanation:**\n",
    "   - The condition `x % 2 == 0` filters out odd numbers.\n",
    "   - Only items that satisfy the condition are included in the resulting list.\n",
    "\n",
    "---\n",
    "\n",
    "### 3. **Nested List Comprehension**\n",
    "   This is used to generate lists from nested loops, where the inner iterable depends on the outer iterable.\n",
    "\n",
    "   **Syntax:**\n",
    "   ```python\n",
    "   [expression for item1 in iterable1 for item2 in iterable2]\n",
    "   ```\n",
    "\n",
    "   **Example:**\n",
    "   ```python\n",
    "   pairs = [(x, y) for x in range(3) for y in range(3)]\n",
    "   print(pairs)  # Output: [(0, 0), (0, 1), (0, 2), (1, 0), (1, 1), (1, 2), (2, 0), (2, 1), (2, 2)]\n",
    "   ```\n",
    "\n",
    "   **Explanation:**\n",
    "   - Two loops iterate: the outer loop iterates over `range(3)` for `x`, and the inner loop iterates over `range(3)` for `y`.\n",
    "   - The expression `(x, y)` generates all possible pairs.\n",
    "\n",
    "---\n",
    "\n",
    "### 4. **Conditional Expression in List Comprehension**\n",
    "   This applies a conditional expression to each element in the iterable.\n",
    "\n",
    "   **Syntax:**\n",
    "   ```python\n",
    "   [expression1 if condition else expression2 for item in iterable]\n",
    "   ```\n",
    "\n",
    "   **Example:**\n",
    "   ```python\n",
    "   results = [\"Even\" if x % 2 == 0 else \"Odd\" for x in range(5)]\n",
    "   print(results)  # Output: ['Even', 'Odd', 'Even', 'Odd', 'Even']\n",
    "   ```\n",
    "\n",
    "   **Explanation:**\n",
    "   - The condition `x % 2 == 0` determines whether `x` is even or odd.\n",
    "   - The result for each `x` is either `\"Even\"` or `\"Odd\"`, depending on the condition.\n",
    "\n",
    "---\n",
    "\n",
    "### Summary Table\n",
    "\n",
    "| Type                      | Syntax                                             | Example                                                      |\n",
    "|---------------------------|----------------------------------------------------|-------------------------------------------------------------|\n",
    "| Basic                     | `[expression for item in iterable]`               | `[x**2 for x in range(5)]`                                  |\n",
    "| Conditional               | `[expression for item in iterable if condition]`  | `[x for x in range(10) if x % 2 == 0]`                      |\n",
    "| Nested                    | `[expression for i1 in iter1 for i2 in iter2]`    | `[(x, y) for x in range(3) for y in range(3)]`              |\n",
    "| Conditional Expression    | `[expr1 if cond else expr2 for item in iterable]` | `[\"Even\" if x % 2 == 0 else \"Odd\" for x in range(5)]`       |\n",
    "\n",
    "By using these types effectively, you can write compact and readable Python code for various use cases."
   ]
  },
  {
   "cell_type": "code",
   "execution_count": null,
   "metadata": {},
   "outputs": [],
   "source": []
  }
 ],
 "metadata": {
  "kernelspec": {
   "display_name": "Python 3",
   "language": "python",
   "name": "python3"
  },
  "language_info": {
   "codemirror_mode": {
    "name": "ipython",
    "version": 3
   },
   "file_extension": ".py",
   "mimetype": "text/x-python",
   "name": "python",
   "nbconvert_exporter": "python",
   "pygments_lexer": "ipython3",
   "version": "3.12.1"
  }
 },
 "nbformat": 4,
 "nbformat_minor": 2
}
