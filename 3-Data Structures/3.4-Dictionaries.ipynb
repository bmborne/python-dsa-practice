{
 "cells": [
  {
   "cell_type": "markdown",
   "metadata": {},
   "source": [
    "# DICTIONARIES\n",
    "\n",
    "Unorderd collection of items. They store data in key-value pairs. Keys must be unique and immutable. (strings, numbers, tuples) while values can be of any type."
   ]
  },
  {
   "cell_type": "code",
   "execution_count": 1,
   "metadata": {},
   "outputs": [
    {
     "name": "stdout",
     "output_type": "stream",
     "text": [
      "<class 'dict'>\n"
     ]
    }
   ],
   "source": [
    "## creating dictionaries\n",
    "empty_dic={}\n",
    "print(type(empty_dic))"
   ]
  },
  {
   "cell_type": "code",
   "execution_count": 2,
   "metadata": {},
   "outputs": [
    {
     "name": "stdout",
     "output_type": "stream",
     "text": [
      "<class 'dict'>\n"
     ]
    }
   ],
   "source": [
    "empty_dic=dict()\n",
    "print(type(empty_dic))"
   ]
  },
  {
   "cell_type": "code",
   "execution_count": 3,
   "metadata": {},
   "outputs": [
    {
     "name": "stdout",
     "output_type": "stream",
     "text": [
      "{'name': 'Bony', 'Age': 30, 'Class': 24, 'Gender': 'Male'}\n"
     ]
    }
   ],
   "source": [
    "student={\"name\":\"Bony\", \"Age\":30, \"Class\":24, \"Gender\": \"Male\"}\n",
    "print(student)"
   ]
  },
  {
   "cell_type": "code",
   "execution_count": 5,
   "metadata": {},
   "outputs": [
    {
     "name": "stdout",
     "output_type": "stream",
     "text": [
      "{'name': 'brayden', 'age': 30}\n"
     ]
    }
   ],
   "source": [
    "# Error\n",
    "student={\"name\":\"Bony\", \"age\":30, \"name\":\"brayden\"}\n",
    "print(student)"
   ]
  },
  {
   "cell_type": "code",
   "execution_count": 13,
   "metadata": {},
   "outputs": [
    {
     "name": "stdout",
     "output_type": "stream",
     "text": [
      "{'name': 'Bony', 'Age': 30, 'Class': 24, 'Gender': 'Male'}\n",
      "Bony\n",
      "24\n",
      "Bony\n",
      "30\n",
      "None\n",
      "not_available\n"
     ]
    }
   ],
   "source": [
    "#accessing dictionary elements\n",
    "student={\"name\":\"Bony\", \"Age\":30, \"Class\":24, \"Gender\": \"Male\"}\n",
    "print(student)\n",
    "\n",
    "# on of the way to access the dictionary\n",
    "print(student['name'])\n",
    "print(student['Class'])\n",
    "\n",
    "#another way\n",
    "# access using a get method\n",
    "print(student.get('name'))\n",
    "print(student.get('Age'))\n",
    "print(student.get('last_name'))\n",
    "print(student.get('last_name', \"not_available\"))"
   ]
  },
  {
   "cell_type": "code",
   "execution_count": 14,
   "metadata": {},
   "outputs": [
    {
     "name": "stdout",
     "output_type": "stream",
     "text": [
      "{'name': 'Bony', 'Age': 30, 'Class': 24, 'Gender': 'Male'}\n"
     ]
    }
   ],
   "source": [
    "# Modifing dictionart elements\n",
    "# Dictionary are mutable so you can add, delete, modify, update elements\n",
    "print(student)"
   ]
  },
  {
   "cell_type": "code",
   "execution_count": 16,
   "metadata": {},
   "outputs": [
    {
     "name": "stdout",
     "output_type": "stream",
     "text": [
      "{'name': 'Bony', 'Age': 33, 'Class': 24, 'Gender': 'Male', 'age': 33, 'address': 'England'}\n",
      "{'name': 'Bony', 'Age': 33, 'Class': 24, 'Gender': 'Male', 'age': 33, 'address': 'England'}\n"
     ]
    }
   ],
   "source": [
    "student[\"Age\"]=33\n",
    "print(student)\n",
    "student[\"address\"]=\"England\"\n",
    "print(student)"
   ]
  },
  {
   "cell_type": "code",
   "execution_count": 17,
   "metadata": {},
   "outputs": [
    {
     "name": "stdout",
     "output_type": "stream",
     "text": [
      "{'name': 'Bony', 'Age': 33, 'Class': 24, 'Gender': 'Male', 'address': 'England'}\n"
     ]
    }
   ],
   "source": [
    "del student['age'] # this will basically delete the key and value pair\n",
    "print(student)"
   ]
  },
  {
   "cell_type": "code",
   "execution_count": 20,
   "metadata": {},
   "outputs": [
    {
     "name": "stdout",
     "output_type": "stream",
     "text": [
      "dict_keys(['name', 'Age', 'Class', 'Gender', 'address'])\n",
      "dict_values(['Bony', 33, 24, 'Male', 'England'])\n",
      "dict_items([('name', 'Bony'), ('Age', 33), ('Class', 24), ('Gender', 'Male'), ('address', 'England')])\n"
     ]
    }
   ],
   "source": [
    "## common dictionary methods importants\n",
    "keys=student.keys()\n",
    "print(keys)\n",
    "values=student.values()\n",
    "print(values)\n",
    "\n",
    "items = student.items() # this will enable me to get all key values pair\n",
    "print(items)"
   ]
  },
  {
   "cell_type": "code",
   "execution_count": 21,
   "metadata": {},
   "outputs": [
    {
     "name": "stdout",
     "output_type": "stream",
     "text": [
      "{'name': 'Bony', 'Age': 33, 'Class': 24, 'Gender': 'Male', 'address': 'England'}\n",
      "{'name': 'Bony', 'Age': 33, 'Class': 24, 'Gender': 'Male', 'address': 'England'}\n"
     ]
    }
   ],
   "source": [
    "## shallow copies\n",
    "## make sure you remember and avoid this mistake\n",
    "\n",
    "student_copy=student\n",
    "print(student)\n",
    "print(student_copy)"
   ]
  },
  {
   "cell_type": "code",
   "execution_count": 22,
   "metadata": {},
   "outputs": [
    {
     "name": "stdout",
     "output_type": "stream",
     "text": [
      "{'name': 'Brayden', 'Age': 33, 'Class': 24, 'Gender': 'Male', 'address': 'England'}\n",
      "{'name': 'Brayden', 'Age': 33, 'Class': 24, 'Gender': 'Male', 'address': 'England'}\n"
     ]
    }
   ],
   "source": [
    "student['name']='Brayden'\n",
    "print(student)\n",
    "print(student_copy)"
   ]
  },
  {
   "cell_type": "code",
   "execution_count": 23,
   "metadata": {},
   "outputs": [
    {
     "name": "stdout",
     "output_type": "stream",
     "text": [
      "{'name': 'Brayden', 'Age': 1, 'Class': 24, 'Gender': 'Male', 'address': 'England'}\n",
      "{'name': 'Brayden', 'Age': 1, 'Class': 24, 'Gender': 'Male', 'address': 'England'}\n",
      "{'name': 'Brayden', 'Age': 33, 'Class': 24, 'Gender': 'Male', 'address': 'England'}\n"
     ]
    }
   ],
   "source": [
    "# this is a big problem \n",
    "student_copy1 = student.copy() ## Performs copy on the address and memory level\n",
    "# This is how you should make a copy\n",
    "student['Age'] = 1\n",
    "print(student)\n",
    "print(student_copy)\n",
    "print(student_copy1)"
   ]
  },
  {
   "cell_type": "code",
   "execution_count": 31,
   "metadata": {},
   "outputs": [
    {
     "name": "stdout",
     "output_type": "stream",
     "text": [
      "name\n",
      "Age\n",
      "Class\n",
      "Gender\n",
      "address\n",
      "Brayden\n",
      "1\n",
      "24\n",
      "Male\n",
      "England\n",
      "('name', 'Brayden')\n",
      "('Age', 1)\n",
      "('Class', 24)\n",
      "('Gender', 'Male')\n",
      "('address', 'England')\n",
      "name : Brayden\n",
      "Age : 1\n",
      "Class : 24\n",
      "Gender : Male\n",
      "address : England\n"
     ]
    }
   ],
   "source": [
    "## iteratting over dictionaries\n",
    "## use loops to iterate over the dictionaries\n",
    "\n",
    "## iterating over keys\n",
    "for key in student.keys():\n",
    "    print(key)\n",
    "\n",
    "\n",
    "## iterate over values\n",
    "for value in student.values():\n",
    "    print(value)\n",
    "\n",
    "## itterate over items\n",
    "for item in student.items():\n",
    "    print(item)\n",
    "\n",
    "# itterate over key pairs:\n",
    "for key,value in student.items():\n",
    "    print(f\"{key} : {value}\")"
   ]
  },
  {
   "cell_type": "code",
   "execution_count": 34,
   "metadata": {},
   "outputs": [
    {
     "name": "stdout",
     "output_type": "stream",
     "text": [
      "{'student1': {'name': 'Bony', 'Age': 30}, 'student2': {'name': 'Brayden', 'Age': 1}}\n"
     ]
    }
   ],
   "source": [
    "### Nested Dictionaries\n",
    "students={\n",
    "    \"student1\": {\"name\":\"Bony\", \"Age\":30},\n",
    "    \"student2\": {\"name\":\"Brayden\", \"Age\":1}\n",
    "}\n",
    "\n",
    "print(students)"
   ]
  },
  {
   "cell_type": "code",
   "execution_count": 36,
   "metadata": {},
   "outputs": [
    {
     "name": "stdout",
     "output_type": "stream",
     "text": [
      "Brayden\n",
      "1\n"
     ]
    }
   ],
   "source": [
    "## Access nested dictionaries elements\n",
    "print(students['student2']['name'])\n",
    "print(students['student2']['Age'])"
   ]
  },
  {
   "cell_type": "code",
   "execution_count": 40,
   "metadata": {},
   "outputs": [
    {
     "name": "stdout",
     "output_type": "stream",
     "text": [
      "student1\n",
      "name : Bony\n",
      "Age : 30\n",
      "student2\n",
      "name : Brayden\n",
      "Age : 1\n"
     ]
    }
   ],
   "source": [
    "# iterrating over nested dictionaries\n",
    "for student_id,student_info in students.items():\n",
    "    print(f\"{student_id}\")\n",
    "    for key,value in student_info.items():\n",
    "        print(f\"{key} : {value}\")"
   ]
  },
  {
   "cell_type": "code",
   "execution_count": 41,
   "metadata": {},
   "outputs": [
    {
     "name": "stdout",
     "output_type": "stream",
     "text": [
      "{0: 0, 1: 1, 2: 4, 3: 9, 4: 16}\n"
     ]
    }
   ],
   "source": [
    "### Dictionary comprehension\n",
    "squares={x:x**2 for x in range(5)}\n",
    "print(squares)"
   ]
  },
  {
   "cell_type": "code",
   "execution_count": 43,
   "metadata": {},
   "outputs": [
    {
     "name": "stdout",
     "output_type": "stream",
     "text": [
      "{0: 0, 2: 4, 4: 16, 6: 36, 8: 64}\n"
     ]
    }
   ],
   "source": [
    "## conditional dictionary comprehension\n",
    "even_squares = {x:x**2 for x in range(10) if x%2==0}\n",
    "print(even_squares)"
   ]
  },
  {
   "cell_type": "code",
   "execution_count": 58,
   "metadata": {},
   "outputs": [
    {
     "name": "stdout",
     "output_type": "stream",
     "text": [
      "{1: 1, 2: 2, 3: 3, 4: 6}\n",
      "{1: 1, 2: 2, 3: 3, 4: 6}\n"
     ]
    }
   ],
   "source": [
    "## Practicle examples:\n",
    "## use a dictionary to count the frequency in a list\n",
    "\n",
    "numbers = [1,2,2,3,3,3,4,4,4,4,4,4]\n",
    "#code in dictionary to count the frequency of the numbers\n",
    "\n",
    "\n",
    "freq_dict={}\n",
    "for number in numbers:\n",
    "    if number in freq_dict:\n",
    "        #print(f\"value : {number}\")\n",
    "        freq_dict[number]+=1\n",
    "    else:\n",
    "        freq_dict[number]=1\n",
    "        #print(f\"value : {number} and the dic is {freq_dict}\")\n",
    "\n",
    "print(freq_dict)\n",
    "\n",
    "#using dictionary dic\n",
    "freq_dict_comp={number:numbers.count(number) for number in set(numbers)}\n",
    "print(freq_dict_comp)"
   ]
  },
  {
   "cell_type": "code",
   "execution_count": 60,
   "metadata": {},
   "outputs": [
    {
     "name": "stdout",
     "output_type": "stream",
     "text": [
      "{'a': 1, 'b': 2, 'c': 3, 'd': 4}\n"
     ]
    }
   ],
   "source": [
    "## Merge 2 dictionaries into one\n",
    "dict1={'a':1, 'b':2}\n",
    "dict2={'c':3, 'd':4}\n",
    "\n",
    "merge_dic={**dict1, **dict2}\n",
    "print(merge_dic)"
   ]
  },
  {
   "cell_type": "code",
   "execution_count": null,
   "metadata": {},
   "outputs": [],
   "source": []
  }
 ],
 "metadata": {
  "kernelspec": {
   "display_name": "Python 3",
   "language": "python",
   "name": "python3"
  },
  "language_info": {
   "codemirror_mode": {
    "name": "ipython",
    "version": 3
   },
   "file_extension": ".py",
   "mimetype": "text/x-python",
   "name": "python",
   "nbconvert_exporter": "python",
   "pygments_lexer": "ipython3",
   "version": "3.12.1"
  }
 },
 "nbformat": 4,
 "nbformat_minor": 2
}
